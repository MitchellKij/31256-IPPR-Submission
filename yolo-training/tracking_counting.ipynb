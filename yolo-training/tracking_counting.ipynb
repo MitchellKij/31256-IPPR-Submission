{
  "cells": [
    {
      "cell_type": "code",
      "execution_count": 48,
      "metadata": {
        "colab": {
          "base_uri": "https://localhost:8080/"
        },
        "id": "SC9yRiwbwrDA",
        "outputId": "c45f3c52-28be-48b0-8d3d-ac4167d5e4ca"
      },
      "outputs": [
        {
          "name": "stdout",
          "output_type": "stream",
          "text": [
            "Downloading...\n",
            "From: https://camtagstoreaiem.blob.core.windows.net/carb/best525.pt\n",
            "To: /content/best525.pt\n",
            "100% 22.5M/22.5M [00:03<00:00, 6.40MB/s]\n"
          ]
        }
      ],
      "source": [
        "!gdown 'https://camtagstoreaiem.blob.core.windows.net/carb/best525.pt'"
      ]
    },
    {
      "cell_type": "code",
      "execution_count": 49,
      "metadata": {
        "colab": {
          "base_uri": "https://localhost:8080/"
        },
        "id": "bkKyyyNxu5EC",
        "outputId": "1967742e-3884-4015-caf2-a7d038e12adf"
      },
      "outputs": [
        {
          "name": "stdout",
          "output_type": "stream",
          "text": [
            "/content\n",
            "Downloading...\n",
            "From: https://camtagstoreaiem.blob.core.windows.net/carb/20231023_195750.mp4\n",
            "To: /content/20231023_195750.mp4\n",
            "100% 34.4M/34.4M [00:04<00:00, 7.88MB/s]\n",
            "Downloading...\n",
            "From: https://camtagstoreaiem.blob.core.windows.net/carb/20231016_165314.mp4\n",
            "To: /content/20231016_165314.mp4\n",
            "100% 32.5M/32.5M [00:04<00:00, 7.25MB/s]\n"
          ]
        }
      ],
      "source": [
        "!pip install -q gdown\n",
        "%cd {HOME}\n",
        "!gdown 'https://camtagstoreaiem.blob.core.windows.net/carb/20231023_195750.mp4'\n",
        "!gdown 'https://camtagstoreaiem.blob.core.windows.net/carb/20231016_165314.mp4'"
      ]
    },
    {
      "cell_type": "code",
      "execution_count": 62,
      "metadata": {
        "id": "Y3DjvPRiGIht"
      },
      "outputs": [],
      "source": [
        "SOURCE_VIDEO_PATH = f\"{HOME}/20231016_165314.mp4\""
      ]
    },
    {
      "cell_type": "code",
      "execution_count": 63,
      "metadata": {
        "colab": {
          "base_uri": "https://localhost:8080/"
        },
        "id": "S2kB2mCmGPmL",
        "outputId": "73b59c8a-cb12-4d54-dc3d-2f5179132f4a"
      },
      "outputs": [
        {
          "name": "stderr",
          "output_type": "stream",
          "text": [
            "Ultralytics YOLOv8.0.203 🚀 Python-3.10.12 torch-2.1.0+cu118 CUDA:0 (Tesla T4, 15102MiB)\n",
            "Setup complete ✅ (2 CPUs, 12.7 GB RAM, 27.2/166.8 GB disk)\n"
          ]
        }
      ],
      "source": [
        "!pip install ultralytics\n",
        "\n",
        "from IPython import display\n",
        "display.clear_output()\n",
        "\n",
        "import ultralytics\n",
        "ultralytics.checks()"
      ]
    },
    {
      "cell_type": "code",
      "execution_count": 52,
      "metadata": {
        "id": "dbt0QFEn9OFu"
      },
      "outputs": [],
      "source": [
        "!pip install supervision\n",
        "\n",
        "from IPython import display\n",
        "display.clear_output()\n",
        "\n",
        "import supervision as sv"
      ]
    },
    {
      "cell_type": "code",
      "execution_count": 53,
      "metadata": {
        "id": "uxe67PQVHBCA"
      },
      "outputs": [],
      "source": [
        "MODEL = \"best525.pt\""
      ]
    },
    {
      "cell_type": "code",
      "execution_count": 54,
      "metadata": {
        "colab": {
          "base_uri": "https://localhost:8080/"
        },
        "id": "9-7SBD_bHDuQ",
        "outputId": "bea911f8-529f-4f76-ba01-f95ace6b33e5"
      },
      "outputs": [
        {
          "name": "stderr",
          "output_type": "stream",
          "text": [
            "Model summary (fused): 168 layers, 11127132 parameters, 0 gradients, 28.4 GFLOPs\n"
          ]
        }
      ],
      "source": [
        "from ultralytics import YOLO\n",
        "\n",
        "model = YOLO(MODEL)\n",
        "model.fuse()"
      ]
    },
    {
      "cell_type": "code",
      "execution_count": 55,
      "metadata": {
        "colab": {
          "base_uri": "https://localhost:8080/"
        },
        "id": "d2dlpvZ1xSNJ",
        "outputId": "4da6c20d-72ef-427b-f6f0-b7642b96cb30"
      },
      "outputs": [
        {
          "name": "stdout",
          "output_type": "stream",
          "text": [
            "{0: 'bus', 1: 'car', 2: 'motorcycle', 3: 'truck'}\n"
          ]
        }
      ],
      "source": [
        "print(model.model.names)"
      ]
    },
    {
      "cell_type": "code",
      "execution_count": 56,
      "metadata": {
        "id": "QEx7Wn7F9Tlc"
      },
      "outputs": [],
      "source": [
        "CLASS_NAMES_DICT = model.model.names\n",
        "#selected_classes = [2, 3, 5, 7]"
      ]
    },
    {
      "cell_type": "code",
      "execution_count": 57,
      "metadata": {
        "id": "noOycxILHjYI"
      },
      "outputs": [],
      "source": [
        "import supervision as sv\n",
        "import numpy as np"
      ]
    },
    {
      "cell_type": "code",
      "execution_count": 64,
      "metadata": {
        "id": "7Qwykp5K9VdK"
      },
      "outputs": [],
      "source": [
        "LINE_START = sv.Point(50, 1500)\n",
        "LINE_END = sv.Point(1030, 1500)\n",
        "\n",
        "TARGET_VIDEO_PATH = f\"{HOME}/vehicle-counting-result-with-counter.mp4\"\n"
      ]
    },
    {
      "cell_type": "code",
      "execution_count": 65,
      "metadata": {
        "colab": {
          "base_uri": "https://localhost:8080/"
        },
        "id": "kTBvc5FDJcyw",
        "outputId": "840e7f6e-62c0-4853-8d2e-3a62e0fab426"
      },
      "outputs": [
        {
          "data": {
            "text/plain": [
              "VideoInfo(width=1080, height=2400, fps=30, total_frames=385)"
            ]
          },
          "execution_count": 65,
          "metadata": {},
          "output_type": "execute_result"
        }
      ],
      "source": [
        "sv.VideoInfo.from_video_path(SOURCE_VIDEO_PATH)"
      ]
    },
    {
      "cell_type": "code",
      "execution_count": 66,
      "metadata": {
        "id": "UdnkBZVn9Xyb"
      },
      "outputs": [],
      "source": [
        "byte_tracker = sv.ByteTrack(track_thresh=0.25, track_buffer=30, match_thresh=0.8, frame_rate=30)\n",
        "video_info = sv.VideoInfo.from_video_path(SOURCE_VIDEO_PATH)\n",
        "generator = sv.get_video_frames_generator(SOURCE_VIDEO_PATH)\n",
        "line_zone = sv.LineZone(start=LINE_START, end=LINE_END)\n",
        "box_annotator = sv.BoxAnnotator(thickness=4, text_thickness=4, text_scale=2)\n",
        "trace_annotator = sv.TraceAnnotator(thickness=4, trace_length=50)\n",
        "line_zone_annotator = sv.LineZoneAnnotator(thickness=4, text_thickness=4, text_scale=2)\n",
        "def callback(frame: np.ndarray, index:int) -> np.ndarray:\n",
        "    results = model(frame, verbose=False)[0]\n",
        "    detections = sv.Detections.from_ultralytics(results)\n",
        "    detections = detections[np.isin(detections.class_id,[0,1,2,3])]\n",
        "    detections = byte_tracker.update_with_detections(detections)\n",
        "    labels = [\n",
        "        f\"#{tracker_id} {model.model.names[class_id]} {confidence:0.2f}\"\n",
        "        for _, _, confidence, class_id, tracker_id\n",
        "        in detections\n",
        "    ]\n",
        "    annotated_frame = trace_annotator.annotate(\n",
        "        scene=frame.copy(),\n",
        "        detections=detections\n",
        "    )\n",
        "    annotated_frame=box_annotator.annotate(\n",
        "        scene=annotated_frame,\n",
        "        detections=detections,\n",
        "        labels=labels)\n",
        "    line_zone.trigger(detections)\n",
        "    return  line_zone_annotator.annotate(annotated_frame, line_counter=line_zone)\n",
        "sv.process_video(\n",
        "    source_path = SOURCE_VIDEO_PATH,\n",
        "    target_path = TARGET_VIDEO_PATH,\n",
        "    callback=callback\n",
        ")"
      ]
    }
  ],
  "metadata": {
    "accelerator": "GPU",
    "colab": {
      "gpuType": "T4",
      "provenance": []
    },
    "kernelspec": {
      "display_name": "Python 3",
      "name": "python3"
    },
    "language_info": {
      "name": "python"
    }
  },
  "nbformat": 4,
  "nbformat_minor": 0
}
